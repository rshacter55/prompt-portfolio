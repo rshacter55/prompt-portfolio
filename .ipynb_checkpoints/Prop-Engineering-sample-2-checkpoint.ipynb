{
 "cells": [
  {
   "cell_type": "markdown",
   "id": "850a59a9-7adb-4866-b049-725fce6d6954",
   "metadata": {},
   "source": []
  }
 ],
 "metadata": {
  "kernelspec": {
   "display_name": "",
   "name": ""
  },
  "language_info": {
   "name": ""
  }
 },
 "nbformat": 4,
 "nbformat_minor": 5
}
